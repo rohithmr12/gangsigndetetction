{
 "cells": [
  {
   "cell_type": "code",
   "execution_count": 3,
   "metadata": {},
   "outputs": [],
   "source": [
    "\n",
    "import time\n",
    "import os\n",
    "import uuid"
   ]
  },
  {
   "cell_type": "code",
   "execution_count": 4,
   "metadata": {},
   "outputs": [],
   "source": [
    "lables=['cuzz','flick','ptown','yo','rashford']\n",
    "num=5"
   ]
  },
  {
   "cell_type": "code",
   "execution_count": 5,
   "metadata": {},
   "outputs": [],
   "source": [
    "img_path=os.path.join('tf','workspace','imgs','collected_imgs')"
   ]
  },
  {
   "cell_type": "code",
   "execution_count": 6,
   "metadata": {},
   "outputs": [
    {
     "name": "stdout",
     "output_type": "stream",
     "text": [
      "tf\\workspace\\imgs\\collected_imgs\n"
     ]
    }
   ],
   "source": [
    "print(img_path)"
   ]
  },
  {
   "cell_type": "code",
   "execution_count": 7,
   "metadata": {},
   "outputs": [],
   "source": [
    "if not os.path.exists(img_path):\n",
    "    if os.name == 'nt':\n",
    "        !mkdir {img_path}\n",
    "\n",
    "for lable in lables:\n",
    "    path=os.path.join(img_path,lable)\n",
    "    if not os.path.exists(path):\n",
    "        !mkdir {path}\n",
    "\n"
   ]
  },
  {
   "cell_type": "code",
   "execution_count": 8,
   "metadata": {},
   "outputs": [],
   "source": [
    "import cv2"
   ]
  },
  {
   "cell_type": "code",
   "execution_count": 9,
   "metadata": {},
   "outputs": [
    {
     "name": "stdout",
     "output_type": "stream",
     "text": [
      "label== cuzz\n",
      "img number 0\n",
      "img number 1\n",
      "img number 2\n",
      "img number 3\n",
      "img number 4\n",
      "label== flick\n",
      "img number 0\n",
      "img number 1\n",
      "img number 2\n",
      "img number 3\n",
      "img number 4\n",
      "label== ptown\n",
      "img number 0\n",
      "img number 1\n",
      "img number 2\n",
      "img number 3\n",
      "img number 4\n",
      "label== yo\n",
      "img number 0\n",
      "img number 1\n",
      "img number 2\n",
      "img number 3\n",
      "img number 4\n",
      "label== rashford\n",
      "img number 0\n",
      "img number 1\n",
      "img number 2\n",
      "img number 3\n",
      "img number 4\n"
     ]
    }
   ],
   "source": [
    "for label in lables:\n",
    "    cam = cv2.VideoCapture(0)\n",
    "    print(\"label==\",label)\n",
    "    time.sleep(5)\n",
    "    for img in range(0,num):\n",
    "        print(\"img number\",img)\n",
    "        ret, frame = cam.read()\n",
    "        imgname = os.path.join(img_path,label,label+'.'+'{}.jpg'.format(str(uuid.uuid1())))\n",
    "        cv2.imwrite(imgname, frame)\n",
    "        cv2.imshow('frame', frame)\n",
    "        time.sleep(2)\n",
    "\n",
    "        if cv2.waitKey(1) & 0xFF == ord('q'):\n",
    "            break\n",
    "cam.release()\n",
    "cv2.destroyAllWindows()"
   ]
  },
  {
   "cell_type": "code",
   "execution_count": 15,
   "metadata": {},
   "outputs": [],
   "source": [
    "label=os.path.join('tf','labelling')"
   ]
  },
  {
   "cell_type": "code",
   "execution_count": 18,
   "metadata": {},
   "outputs": [
    {
     "data": {
      "text/plain": [
       "'tf\\\\labelling'"
      ]
     },
     "execution_count": 18,
     "metadata": {},
     "output_type": "execute_result"
    }
   ],
   "source": [
    "label"
   ]
  },
  {
   "cell_type": "code",
   "execution_count": 24,
   "metadata": {},
   "outputs": [
    {
     "name": "stderr",
     "output_type": "stream",
     "text": [
      "Cloning into 'tf\\labelling'...\n"
     ]
    }
   ],
   "source": [
    "if not os.path.exists(label):\n",
    "    !mkdir {label}\n",
    "    !git clone https://github.com/HumanSignal/labelImg {label}"
   ]
  },
  {
   "cell_type": "code",
   "execution_count": 31,
   "metadata": {},
   "outputs": [],
   "source": [
    "if os.name =='nt':\n",
    "    !cd {label} && pyrcc5 -o libs/resources.py resources.qrc"
   ]
  },
  {
   "cell_type": "code",
   "execution_count": 33,
   "metadata": {},
   "outputs": [
    {
     "name": "stdout",
     "output_type": "stream",
     "text": [
      "Image:C:\\Users\\rohit\\gangsigndetetction\\tf\\workspace\\imgs\\collected_imgs\\cuzz\\cuzz.b040b193-9f56-11ee-96a2-50ebf6e29ea0.jpg -> Annotation:C:/Users/rohit/gangsigndetetction/tf/workspace/imgs/collected_imgs/cuzz/cuzz.b040b193-9f56-11ee-96a2-50ebf6e29ea0.xml\n",
      "Image:C:\\Users\\rohit\\gangsigndetetction\\tf\\workspace\\imgs\\collected_imgs\\ptown\\ptown.c1907284-9f56-11ee-b900-50ebf6e29ea0.jpg -> Annotation:C:/Users/rohit/gangsigndetetction/tf/workspace/imgs/collected_imgs/ptown\\ptown.c1907284-9f56-11ee-b900-50ebf6e29ea0.xml\n",
      "Image:C:\\Users\\rohit\\gangsigndetetction\\tf\\workspace\\imgs\\collected_imgs\\rashford\\rashford.dc9f5c3d-9f56-11ee-974d-50ebf6e29ea0.jpg -> Annotation:C:/Users/rohit/gangsigndetetction/tf/workspace/imgs/collected_imgs/rashford\\rashford.dc9f5c3d-9f56-11ee-974d-50ebf6e29ea0.xml\n",
      "Image:C:\\Users\\rohit\\gangsigndetetction\\tf\\workspace\\imgs\\collected_imgs\\yo\\yo.d18247ef-9f56-11ee-b96d-50ebf6e29ea0.jpg -> Annotation:C:/Users/rohit/gangsigndetetction/tf/workspace/imgs/collected_imgs/yo\\yo.d18247ef-9f56-11ee-b96d-50ebf6e29ea0.xml\n"
     ]
    }
   ],
   "source": [
    "!cd {label} && python labelImg.py"
   ]
  }
 ],
 "metadata": {
  "kernelspec": {
   "display_name": "gang",
   "language": "python",
   "name": "python3"
  },
  "language_info": {
   "codemirror_mode": {
    "name": "ipython",
    "version": 3
   },
   "file_extension": ".py",
   "mimetype": "text/x-python",
   "name": "python",
   "nbconvert_exporter": "python",
   "pygments_lexer": "ipython3",
   "version": "3.8.0"
  }
 },
 "nbformat": 4,
 "nbformat_minor": 2
}
